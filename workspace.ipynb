{
 "metadata": {
  "language_info": {
   "codemirror_mode": {
    "name": "ipython",
    "version": 3
   },
   "file_extension": ".py",
   "mimetype": "text/x-python",
   "name": "python",
   "nbconvert_exporter": "python",
   "pygments_lexer": "ipython3",
   "version": "3.8.8-final"
  },
  "orig_nbformat": 2,
  "kernelspec": {
   "name": "python388jvsc74a57bd024ad2aac3716e627aecdbb1809663645964025d30cb1a986cbb5fd67e57310a8",
   "display_name": "Python 3.8.8 64-bit ('ai': conda)"
  },
  "metadata": {
   "interpreter": {
    "hash": "24ad2aac3716e627aecdbb1809663645964025d30cb1a986cbb5fd67e57310a8"
   }
  }
 },
 "nbformat": 4,
 "nbformat_minor": 2,
 "cells": [
  {
   "cell_type": "code",
   "execution_count": null,
   "metadata": {},
   "outputs": [],
   "source": [
    "import pydicom\n",
    "import re\n",
    "import os\n",
    "import matplotlib\n",
    "from matplotlib import pyplot as plt\n",
    "from IPython.display import Image as ShowGif\n",
    "from PIL import Image"
   ]
  },
  {
   "cell_type": "code",
   "execution_count": null,
   "metadata": {},
   "outputs": [],
   "source": [
    "parentDir = r'data/raw/train/ID00007637202177411956430'\n",
    "filePath = r'data/raw/train/ID00007637202177411956430/1.dcm'"
   ]
  },
  {
   "cell_type": "code",
   "execution_count": null,
   "metadata": {},
   "outputs": [],
   "source": [
    "dataset = pydicom.dcmread(filePath)\n",
    "\n",
    "print(\"Patient id.......:\", dataset.PatientID, \"\\n\" +\n",
    "      \"Modality.........:\", dataset.Modality, \"\\n\" +\n",
    "      \"Rows.............:\", dataset.Rows, \"\\n\" +\n",
    "      \"Columns..........:\", dataset.Columns)\n",
    "\n",
    "plt.figure(figsize = (7, 7))\n",
    "plt.imshow(dataset.pixel_array, cmap=\"plasma\")\n",
    "plt.axis('off')"
   ]
  },
  {
   "cell_type": "code",
   "execution_count": null,
   "metadata": {},
   "outputs": [],
   "source": [
    "def CreateGif(parentDir: str, patient=1):\n",
    "    files = []\n",
    "    datasets = []\n",
    "    \n",
    "    for dcm in list(os.listdir(parentDir)):\n",
    "        files.append(dcm) \n",
    "    files.sort(key=lambda f: int(re.sub('\\D', '', f)))\n",
    "    \n",
    "    for dcm in files:\n",
    "        path = parentDir + \"/\" + dcm\n",
    "        datasets.append(pydicom.dcmread(path))\n",
    "\n",
    "    if os.path.isdir(f\"png_{patient}\") == False:\n",
    "        os.mkdir(f\"png_{patient}\")\n",
    "\n",
    "    # Save images to PNG\n",
    "    for i in range(len(datasets)):\n",
    "        img = datasets[i].pixel_array\n",
    "        print(type(img), img.shape)\n",
    "        matplotlib.image.imsave(f'png_{patient}/img_{i}.png', img)\n",
    "        \n",
    "        \n",
    "    # === CREATE GIF ===\n",
    "    # First Order the files in the dataset (again)\n",
    "    files = []\n",
    "    for png in list(os.listdir(f\"png_{patient}\")):\n",
    "        files.append(png) \n",
    "    files.sort(key=lambda f: int(re.sub('\\D', '', f)))\n",
    "\n",
    "    # Create the frames\n",
    "    frames = []\n",
    "\n",
    "    # Create frames\n",
    "    for file in files:\n",
    "        new_frame = Image.open(f\"png_{patient}/\" + file)\n",
    "        frames.append(new_frame)\n",
    "\n",
    "    # Save into a GIF file that loops forever\n",
    "    frames[0].save(f'gif_{patient}.gif', format='GIF',\n",
    "                   append_images=frames[1:],\n",
    "                   save_all=True,\n",
    "                   duration=200, loop=0)\n",
    "\n"
   ]
  },
  {
   "cell_type": "code",
   "execution_count": null,
   "metadata": {},
   "outputs": [],
   "source": [
    "CreateGif(r'data/raw/train/ID00007637202177411956430')"
   ]
  },
  {
   "cell_type": "code",
   "execution_count": null,
   "metadata": {},
   "outputs": [],
   "source": []
  }
 ]
}